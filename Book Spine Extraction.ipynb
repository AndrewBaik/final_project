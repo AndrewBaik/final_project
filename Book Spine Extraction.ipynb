{
 "cells": [
  {
   "cell_type": "code",
   "execution_count": null,
   "metadata": {},
   "outputs": [],
   "source": [
    "import io\n",
    "import os"
   ]
  },
  {
   "cell_type": "code",
   "execution_count": null,
   "metadata": {},
   "outputs": [],
   "source": [
    "from google.cloud import vision\n",
    "from google.cloud.vision import types"
   ]
  },
  {
   "cell_type": "code",
   "execution_count": null,
   "metadata": {},
   "outputs": [],
   "source": [
    "client = vision.ImageAnnotatorClient()"
   ]
  },
  {
   "cell_type": "code",
   "execution_count": null,
   "metadata": {},
   "outputs": [],
   "source": [
    "file_name = os.path.join(\n",
    "    os.path.dirname(__file__),\n",
    "    './image_files/IMG_2053.jpg')"
   ]
  },
  {
   "cell_type": "code",
   "execution_count": null,
   "metadata": {},
   "outputs": [],
   "source": [
    "with io.open('./image_files/IMG_2053.jpg', 'rb') as image_file:\n",
    "    content = image_file.read()"
   ]
  },
  {
   "cell_type": "code",
   "execution_count": null,
   "metadata": {},
   "outputs": [],
   "source": [
    "image = types.Image(content=content)"
   ]
  },
  {
   "cell_type": "code",
   "execution_count": null,
   "metadata": {},
   "outputs": [],
   "source": [
    "response = client.text_detection(image=image)\n",
    "texts = response.text_annotations"
   ]
  },
  {
   "cell_type": "code",
   "execution_count": 10,
   "metadata": {},
   "outputs": [
    {
     "name": "stdout",
     "output_type": "stream",
     "text": [
      "Texts:\n",
      "\n",
      "\"2\n",
      "OGERT GALDINI PRE-SUASION\n",
      "DANIEL\n",
      "KAHNEMAN\n",
      "FASTSLOW\n",
      "THE ELEMENTS oF STYLE\n",
      "927 DAYS of SUMMER\n",
      "TREE\n",
      "a life tery\n",
      "Chuck Klosterman\n",
      "But what If we're wrong?\n",
      "TRIBE OF MENTORS TIMOTHY FERRISS\n",
      "\"\n",
      "bounds: (525,371),(2748,371),(2748,2202),(525,2202)\n",
      "\n",
      "\"2\"\n",
      "bounds: (2747,1402),(2747,1439),(2734,1439),(2734,1402)\n",
      "\n",
      "\"OGERT\"\n",
      "bounds: (1992,627),(2080,816),(1865,917),(1776,728)\n",
      "\n",
      "\"GALDINI\"\n",
      "bounds: (2095,852),(2248,1180),(2032,1281),(1879,953)\n",
      "\n",
      "\"PRE-SUASION\"\n",
      "bounds: (2283,1255),(2637,2014),(2421,2115),(2067,1356)\n",
      "\n",
      "\"DANIEL\"\n",
      "bounds: (2001,1756),(2070,1957),(2038,1968),(1969,1767)\n",
      "\n",
      "\"KAHNEMAN\"\n",
      "bounds: (1910,1722),(2018,2037),(1986,2048),(1878,1733)\n",
      "\n",
      "\"FASTSLOW\"\n",
      "bounds: (1585,758),(1725,1175),(1669,1194),(1529,777)\n",
      "\n",
      "\"THE\"\n",
      "bounds: (1628,1361),(1654,1431),(1616,1445),(1590,1375)\n",
      "\n",
      "\"ELEMENTS\"\n",
      "bounds: (1670,1447),(1765,1709),(1717,1727),(1622,1464)\n",
      "\n",
      "\"oF\"\n",
      "bounds: (1754,1727),(1769,1769),(1739,1780),(1724,1738)\n",
      "\n",
      "\"STYLE\"\n",
      "bounds: (1789,1783),(1842,1929),(1796,1945),(1743,1800)\n",
      "\n",
      "\"927\"\n",
      "bounds: (1305,938),(1306,1112),(1234,1113),(1233,939)\n",
      "\n",
      "\"DAYS\"\n",
      "bounds: (1308,1137),(1310,1363),(1237,1364),(1235,1138)\n",
      "\n",
      "\"of\"\n",
      "bounds: (1294,1397),(1295,1483),(1238,1483),(1237,1397)\n",
      "\n",
      "\"SUMMER\"\n",
      "bounds: (1311,1515),(1314,1896),(1241,1897),(1238,1516)\n",
      "\n",
      "\"TREE\"\n",
      "bounds: (1133,1177),(1133,1448),(1053,1448),(1053,1177)\n",
      "\n",
      "\"a\"\n",
      "bounds: (1133,1518),(1133,1531),(1053,1531),(1053,1518)\n",
      "\n",
      "\"life\"\n",
      "bounds: (1133,1547),(1133,1641),(1053,1641),(1053,1547)\n",
      "\n",
      "\"tery\"\n",
      "bounds: (1133,1655),(1133,1763),(1053,1763),(1053,1655)\n",
      "\n",
      "\"Chuck\"\n",
      "bounds: (943,605),(943,815),(890,815),(890,605)\n",
      "\n",
      "\"Klosterman\"\n",
      "bounds: (943,836),(943,1201),(890,1201),(890,836)\n",
      "\n",
      "\"But\"\n",
      "bounds: (938,1459),(938,1559),(889,1559),(889,1459)\n",
      "\n",
      "\"what\"\n",
      "bounds: (938,1576),(938,1726),(887,1726),(887,1576)\n",
      "\n",
      "\"If\"\n",
      "bounds: (937,1743),(937,1780),(888,1780),(888,1743)\n",
      "\n",
      "\"we\"\n",
      "bounds: (935,1796),(935,1889),(886,1889),(886,1796)\n",
      "\n",
      "\"'re\"\n",
      "bounds: (935,1888),(935,1961),(884,1961),(884,1888)\n",
      "\n",
      "\"wrong\"\n",
      "bounds: (935,1977),(935,2164),(873,2164),(873,1977)\n",
      "\n",
      "\"?\"\n",
      "bounds: (935,2167),(935,2201),(884,2201),(884,2167)\n",
      "\n",
      "\"TRIBE\"\n",
      "bounds: (669,371),(669,637),(525,637),(525,371)\n",
      "\n",
      "\"OF\"\n",
      "bounds: (669,686),(669,783),(525,783),(525,686)\n",
      "\n",
      "\"MENTORS\"\n",
      "bounds: (669,833),(669,1249),(525,1249),(525,833)\n",
      "\n",
      "\"TIMOTHY\"\n",
      "bounds: (669,1322),(669,1733),(525,1733),(525,1322)\n",
      "\n",
      "\"FERRISS\"\n",
      "bounds: (669,1786),(669,2127),(525,2127),(525,1786)\n"
     ]
    }
   ],
   "source": [
    "print('Texts:')\n",
    "for text in texts:\n",
    "        print('\\n\"{}\"'.format(text.description))\n",
    "\n",
    "        vertices = (['({},{})'.format(vertex.x, vertex.y)\n",
    "                    for vertex in text.bounding_poly.vertices])\n",
    "\n",
    "        print('bounds: {}'.format(','.join(vertices)))"
   ]
  },
  {
   "cell_type": "code",
   "execution_count": null,
   "metadata": {},
   "outputs": [],
   "source": []
  }
 ],
 "metadata": {
  "kernelspec": {
   "display_name": "Python 3",
   "language": "python",
   "name": "python3"
  },
  "language_info": {
   "codemirror_mode": {
    "name": "ipython",
    "version": 3
   },
   "file_extension": ".py",
   "mimetype": "text/x-python",
   "name": "python",
   "nbconvert_exporter": "python",
   "pygments_lexer": "ipython3",
   "version": "3.7.0"
  }
 },
 "nbformat": 4,
 "nbformat_minor": 2
}
